{
 "cells": [
  {
   "cell_type": "markdown",
   "metadata": {},
   "source": [
    "# Advanced Python\n",
    "\n",
    "The Python features that not only make your code more readable but also more efficient. These are bona fide time-savers that are employed regularly at big companies like Google, to tackle big data challenges.\n",
    "\n",
    "__References__\n",
    "\n",
    "- [Wanna Code Like a Google Engineer?](https://python.plainenglish.io/wanna-code-like-a-google-engineer-lets-dive-into-advanced-python-together-93f1e08b6d2f)"
   ]
  },
  {
   "cell_type": "markdown",
   "metadata": {},
   "source": [
    "## The Walrus Operator (`:=`)"
   ]
  },
  {
   "cell_type": "markdown",
   "metadata": {},
   "source": [
    "Ever found yourself calculating a value, using it in a conditional statement, and then using it again later? Traditionally, you might do this:"
   ]
  },
  {
   "cell_type": "code",
   "execution_count": 1,
   "metadata": {},
   "outputs": [
    {
     "name": "stdout",
     "output_type": "stream",
     "text": [
      "20\n"
     ]
    }
   ],
   "source": [
    "# Normal code\n",
    "\n",
    "import time\n",
    "\n",
    "\n",
    "def some_expensive_calculation():\n",
    "    time.sleep(10) # Mocking expensive call for 10s.\n",
    "    return 20\n",
    "\n",
    "value = some_expensive_calculation()\n",
    "if value > 10:\n",
    "    print(value)\n"
   ]
  },
  {
   "cell_type": "markdown",
   "metadata": {},
   "source": [
    "But with Python’s walrus operator (`:=`), you can streamline this:"
   ]
  },
  {
   "cell_type": "code",
   "execution_count": 2,
   "metadata": {},
   "outputs": [
    {
     "name": "stdout",
     "output_type": "stream",
     "text": [
      "20\n"
     ]
    }
   ],
   "source": [
    "# Efficient code\n",
    "\n",
    "if (value := some_expensive_calculation()) > 10:\n",
    "    print(value)\n"
   ]
  },
  {
   "cell_type": "markdown",
   "metadata": {},
   "source": [
    "It calculates and assigns the value in one go, thereby making your code both readable and efficient."
   ]
  },
  {
   "cell_type": "markdown",
   "metadata": {},
   "source": [
    "## F-Strings: The Print Statement Reimagined"
   ]
  },
  {
   "cell_type": "markdown",
   "metadata": {},
   "source": [
    "Gone are the days of string concatenation or using the `%s` and `%d` specifiers. Python 3.6 introduced f-strings, and if you haven't switched over, you're missing out:"
   ]
  },
  {
   "cell_type": "code",
   "execution_count": 3,
   "metadata": {},
   "outputs": [
    {
     "name": "stdout",
     "output_type": "stream",
     "text": [
      "Hello, my name is Daniel and I am 30 years old.\n"
     ]
    }
   ],
   "source": [
    "name = \"Daniel\"\n",
    "age = 30\n",
    "print(f\"Hello, my name is {name} and I am {age} years old.\")\n"
   ]
  },
  {
   "cell_type": "markdown",
   "metadata": {},
   "source": [
    "## List Comprehensions: Loops, but Faster"
   ]
  },
  {
   "cell_type": "markdown",
   "metadata": {},
   "source": [
    "Imagine you’re dealing with a list of numbers and you need to square each element. The naive way would be:"
   ]
  },
  {
   "cell_type": "code",
   "execution_count": 4,
   "metadata": {},
   "outputs": [
    {
     "data": {
      "text/plain": [
       "[1, 4, 9, 16]"
      ]
     },
     "execution_count": 4,
     "metadata": {},
     "output_type": "execute_result"
    }
   ],
   "source": [
    "numbers = [1, 2, 3, 4]\n",
    "squared_numbers = []\n",
    "for num in numbers:\n",
    "    squared_numbers.append(num ** 2)\n",
    "\n",
    "squared_numbers\n"
   ]
  },
  {
   "cell_type": "markdown",
   "metadata": {},
   "source": [
    "Cute, but inefficient. Enter list comprehensions:"
   ]
  },
  {
   "cell_type": "code",
   "execution_count": 5,
   "metadata": {},
   "outputs": [
    {
     "data": {
      "text/plain": [
       "[1, 4, 9, 16]"
      ]
     },
     "execution_count": 5,
     "metadata": {},
     "output_type": "execute_result"
    }
   ],
   "source": [
    "squared_numbers = [num ** 2 for num in numbers]\n",
    "squared_numbers\n"
   ]
  },
  {
   "cell_type": "markdown",
   "metadata": {},
   "source": [
    "It’s not only concise but also computationally faster. I’ve used list comprehensions extensively for preprocessing data, and they’re an absolute lifesaver for crunching through large datasets efficiently."
   ]
  },
  {
   "cell_type": "markdown",
   "metadata": {},
   "source": [
    "## Secrets of Efficient Looping\n",
    "\n",
    "Loops are like the bread and butter of any programming language, but in Python, you’ve got a plethora of ways to make them incredibly efficient. Trust me, when you’re working with data sets that make your average Excel sheet look like a post-it note — like at Google — you need all the efficiency you can get. So, let’s jump in."
   ]
  },
  {
   "cell_type": "markdown",
   "metadata": {},
   "source": [
    "### The Power of `enumerate`\n",
    "\n",
    "We’ve all been there — looping through a list while also needing the index of each element. Your first instinct might be to create an external counter and increment it within the loop. Here’s a cleaner, more Pythonic way:"
   ]
  },
  {
   "cell_type": "code",
   "execution_count": 6,
   "metadata": {},
   "outputs": [
    {
     "name": "stdout",
     "output_type": "stream",
     "text": [
      "Element Apple is at index 0\n",
      "Element Banana is at index 1\n",
      "Element Orange is at index 2\n",
      "Element Mango is at index 3\n"
     ]
    }
   ],
   "source": [
    "for index, element in enumerate([\"Apple\", \"Banana\", \"Orange\", \"Mango\"]):\n",
    "    print(f\"Element {element} is at index {index}\")\n"
   ]
  },
  {
   "cell_type": "markdown",
   "metadata": {},
   "source": [
    "The `enumerate` function gives you both the index and the element in one go, saving you from manually tracking the index."
   ]
  },
  {
   "cell_type": "markdown",
   "metadata": {},
   "source": [
    "### List Comprehensions with `if` Conditions\n",
    "\n",
    "We already discussed basic list comprehensions, but did you know you can also embed `if` conditions directly within them? Let’s say you want to square only the even numbers in a list:"
   ]
  },
  {
   "cell_type": "code",
   "execution_count": 7,
   "metadata": {},
   "outputs": [
    {
     "data": {
      "text/plain": [
       "[4, 16]"
      ]
     },
     "execution_count": 7,
     "metadata": {},
     "output_type": "execute_result"
    }
   ],
   "source": [
    "squared_even_numbers = [num ** 2 for num in numbers if num % 2 == 0]\n",
    "\n",
    "squared_even_numbers\n"
   ]
  },
  {
   "cell_type": "markdown",
   "metadata": {},
   "source": [
    "This will yield a list containing the squares of only the even numbers. Quick and efficient!"
   ]
  },
  {
   "cell_type": "markdown",
   "metadata": {},
   "source": [
    "### Using `map` and `filter`\n",
    "\n",
    "For complex transformations, `map` and `filter` can be faster than list comprehensions. The `map` function applies a given function to all items of an iterable:"
   ]
  },
  {
   "cell_type": "code",
   "execution_count": 8,
   "metadata": {},
   "outputs": [
    {
     "data": {
      "text/plain": [
       "[1, 4, 9, 16]"
      ]
     },
     "execution_count": 8,
     "metadata": {},
     "output_type": "execute_result"
    }
   ],
   "source": [
    "squared_numbers = list(map(lambda x: x**2, numbers))\n",
    "squared_numbers\n"
   ]
  },
  {
   "cell_type": "markdown",
   "metadata": {},
   "source": [
    "Meanwhile, `filter` can be used to extract elements that meet certain conditions:"
   ]
  },
  {
   "cell_type": "code",
   "execution_count": 9,
   "metadata": {},
   "outputs": [
    {
     "data": {
      "text/plain": [
       "[2, 4]"
      ]
     },
     "execution_count": 9,
     "metadata": {},
     "output_type": "execute_result"
    }
   ],
   "source": [
    "even_numbers = list(filter(lambda x: x % 2 == 0, numbers))\n",
    "even_numbers\n"
   ]
  },
  {
   "cell_type": "markdown",
   "metadata": {},
   "source": [
    "### Nested Loops: Be Careful\n",
    "\n",
    "When you find yourself dealing with nested loops, always be wary. The computational complexity can shoot up really quickly. If you can, try to use Python’s built-in functions or libraries that are optimized for these kinds of operations. For instance, if you’re dealing with matrices, `NumPy` can be a lifesaver."
   ]
  },
  {
   "cell_type": "markdown",
   "metadata": {},
   "source": [
    "### Generators: Lazy Loading\n",
    "\n",
    "If you’re looping through large datasets, consider using generators. They yield one item at a time and are memory-efficient:"
   ]
  },
  {
   "cell_type": "code",
   "execution_count": 10,
   "metadata": {},
   "outputs": [],
   "source": [
    "def count_up_to(max):\n",
    "    count = 1\n",
    "    while count <= max:\n",
    "        yield count\n",
    "        count += 1\n",
    "\n",
    "counter = count_up_to(5)\n"
   ]
  },
  {
   "cell_type": "markdown",
   "metadata": {},
   "source": [
    "Now counter is a generator object. Use `next(counter)` to get the next number in the sequence, without holding the whole sequence in memory."
   ]
  },
  {
   "cell_type": "code",
   "execution_count": 11,
   "metadata": {},
   "outputs": [
    {
     "data": {
      "text/plain": [
       "1"
      ]
     },
     "execution_count": 11,
     "metadata": {},
     "output_type": "execute_result"
    }
   ],
   "source": [
    "next(counter)\n"
   ]
  },
  {
   "cell_type": "markdown",
   "metadata": {},
   "source": [
    "## Magical Libraries Only Insiders Use"
   ]
  },
  {
   "cell_type": "markdown",
   "metadata": {},
   "source": [
    "### 1. `Faker` for generating fake data\n",
    "\n",
    "If you’ve ever had to test an application that requires a ton of randomized but realistic data, you know the struggle. Enter `Faker`."
   ]
  },
  {
   "cell_type": "code",
   "execution_count": 1,
   "metadata": {},
   "outputs": [],
   "source": [
    "from faker import Faker\n"
   ]
  },
  {
   "cell_type": "code",
   "execution_count": 2,
   "metadata": {},
   "outputs": [
    {
     "name": "stdout",
     "output_type": "stream",
     "text": [
      "Anthony Baker\n"
     ]
    }
   ],
   "source": [
    "fake = Faker()\n",
    "\n",
    "print(fake.name())\n"
   ]
  },
  {
   "cell_type": "markdown",
   "metadata": {},
   "source": [
    "In just one line of code, you can generate names, addresses, emails, and even custom formats of data. And guess what? It supports localization as well."
   ]
  },
  {
   "cell_type": "markdown",
   "metadata": {},
   "source": [
    "### 2. `Arrow` for Dates and Times\n",
    "\n",
    "Handling dates and times is a notorious headache in programming. `Arrow` offers a more human-friendly approach to date manipulation."
   ]
  },
  {
   "cell_type": "code",
   "execution_count": 4,
   "metadata": {},
   "outputs": [
    {
     "name": "stdout",
     "output_type": "stream",
     "text": [
      "2023-10-17T05:52:36.128259+00:00\n",
      "2023-10-17T11:22:36.128259+05:30\n",
      "2023-10-17 11:22:36\n"
     ]
    }
   ],
   "source": [
    "import arrow\n",
    "\n",
    "utc = arrow.utcnow()\n",
    "local = utc.to(\"asia/kolkata\")\n",
    "\n",
    "print(utc)\n",
    "print(local)\n",
    "print(local.format(\"YYYY-MM-DD HH:mm:ss\"))\n"
   ]
  },
  {
   "cell_type": "markdown",
   "metadata": {},
   "source": [
    "### 3. `Pydantic` for Data Validation\n",
    "\n",
    "Data validation is a must in any production-level application. `Pydantic` allows you to validate complex data structures using Python type annotations."
   ]
  },
  {
   "cell_type": "code",
   "execution_count": 5,
   "metadata": {},
   "outputs": [
    {
     "data": {
      "text/plain": [
       "UserModel(username='John', age=30)"
      ]
     },
     "execution_count": 5,
     "metadata": {},
     "output_type": "execute_result"
    }
   ],
   "source": [
    "from pydantic import BaseModel\n",
    "\n",
    "class UserModel(BaseModel):\n",
    "    username: str\n",
    "    age: int\n",
    "\n",
    "user = UserModel(username=\"John\", age=30)\n",
    "user\n"
   ]
  },
  {
   "cell_type": "markdown",
   "metadata": {},
   "source": [
    "If you try to create a user with an incorrect data type, `Pydantic` will throw an error before your application even has a chance to misbehave."
   ]
  },
  {
   "cell_type": "code",
   "execution_count": 8,
   "metadata": {},
   "outputs": [
    {
     "ename": "ValidationError",
     "evalue": "1 validation error for UserModel\nage\n  Input should be a valid integer, unable to parse string as an integer [type=int_parsing, input_value='Thirty', input_type=str]\n    For further information visit https://errors.pydantic.dev/2.4/v/int_parsing",
     "output_type": "error",
     "traceback": [
      "\u001b[0;31m---------------------------------------------------------------------------\u001b[0m",
      "\u001b[0;31mValidationError\u001b[0m                           Traceback (most recent call last)",
      "\u001b[1;32m/Users/agarwalpeeush/gh/sadhna-agrawal/orgs/ainomic/python-advanced/01-advanced-python.ipynb Cell 43\u001b[0m line \u001b[0;36m3\n\u001b[1;32m      <a href='vscode-notebook-cell:/Users/agarwalpeeush/gh/sadhna-agrawal/orgs/ainomic/python-advanced/01-advanced-python.ipynb#X56sZmlsZQ%3D%3D?line=0'>1</a>\u001b[0m \u001b[39m# Incorrect model\u001b[39;00m\n\u001b[0;32m----> <a href='vscode-notebook-cell:/Users/agarwalpeeush/gh/sadhna-agrawal/orgs/ainomic/python-advanced/01-advanced-python.ipynb#X56sZmlsZQ%3D%3D?line=2'>3</a>\u001b[0m user \u001b[39m=\u001b[39m UserModel(username\u001b[39m=\u001b[39;49m\u001b[39m\"\u001b[39;49m\u001b[39mJohn\u001b[39;49m\u001b[39m\"\u001b[39;49m, age\u001b[39m=\u001b[39;49m\u001b[39m\"\u001b[39;49m\u001b[39mThirty\u001b[39;49m\u001b[39m\"\u001b[39;49m)\n\u001b[1;32m      <a href='vscode-notebook-cell:/Users/agarwalpeeush/gh/sadhna-agrawal/orgs/ainomic/python-advanced/01-advanced-python.ipynb#X56sZmlsZQ%3D%3D?line=3'>4</a>\u001b[0m user\n",
      "File \u001b[0;32m/opt/homebrew/Caskroom/miniforge/base/envs/advanced-python-env/lib/python3.10/site-packages/pydantic/main.py:164\u001b[0m, in \u001b[0;36mBaseModel.__init__\u001b[0;34m(__pydantic_self__, **data)\u001b[0m\n\u001b[1;32m    162\u001b[0m \u001b[39m# `__tracebackhide__` tells pytest and some other tools to omit this function from tracebacks\u001b[39;00m\n\u001b[1;32m    163\u001b[0m __tracebackhide__ \u001b[39m=\u001b[39m \u001b[39mTrue\u001b[39;00m\n\u001b[0;32m--> 164\u001b[0m __pydantic_self__\u001b[39m.\u001b[39;49m__pydantic_validator__\u001b[39m.\u001b[39;49mvalidate_python(data, self_instance\u001b[39m=\u001b[39;49m__pydantic_self__)\n",
      "\u001b[0;31mValidationError\u001b[0m: 1 validation error for UserModel\nage\n  Input should be a valid integer, unable to parse string as an integer [type=int_parsing, input_value='Thirty', input_type=str]\n    For further information visit https://errors.pydantic.dev/2.4/v/int_parsing"
     ]
    }
   ],
   "source": [
    "# Incorrect model\n",
    "\n",
    "user = UserModel(username=\"John\", age=\"Thirty\")\n",
    "user\n"
   ]
  },
  {
   "cell_type": "markdown",
   "metadata": {},
   "source": [
    "## Handling API Rate Limits: Advanced Tip\n",
    "\n",
    "APIs often have a rate limit. A naive way to handle this is by using Python’s `time.sleep()`, but let’s level up. I recommend using a more advanced Python package called `ratelimit`."
   ]
  },
  {
   "cell_type": "code",
   "execution_count": 10,
   "metadata": {},
   "outputs": [],
   "source": [
    "from ratelimit import limits\n",
    "import requests\n",
    "\n",
    "@limits(calls=15, period=900)\n",
    "def fetch_data():\n",
    "    response = requests.get('https://api.github.com/events')\n",
    "    return response.json()\n"
   ]
  },
  {
   "cell_type": "markdown",
   "metadata": {},
   "source": [
    "Here, `calls=15` and `period=900` means we're limiting ourselves to 15 API calls every 900 seconds."
   ]
  },
  {
   "cell_type": "code",
   "execution_count": null,
   "metadata": {},
   "outputs": [],
   "source": []
  }
 ],
 "metadata": {
  "kernelspec": {
   "display_name": "base",
   "language": "python",
   "name": "python3"
  },
  "language_info": {
   "codemirror_mode": {
    "name": "ipython",
    "version": 3
   },
   "file_extension": ".py",
   "mimetype": "text/x-python",
   "name": "python",
   "nbconvert_exporter": "python",
   "pygments_lexer": "ipython3",
   "version": "3.10.13"
  }
 },
 "nbformat": 4,
 "nbformat_minor": 2
}
